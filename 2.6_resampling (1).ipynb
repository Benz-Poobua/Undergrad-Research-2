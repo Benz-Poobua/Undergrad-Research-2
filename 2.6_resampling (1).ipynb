{
 "cells": [
  {
   "cell_type": "markdown",
   "metadata": {},
   "source": [
    "# 2.6 Resampling Methods \n",
    "\n",
    "Data have natural variability, which we often have to account for. \n",
    "\n",
    "Among other applications (e.g., uncertainity propagation or assigning confidence intervals to some statistic), **resampling methods** can help us explore this varaibility. \n",
    "\n",
    "Broadly, resampling refers to any technique where we repeatedly draw observations from some sample.\n",
    "\n",
    "<!---\n",
    "Note that the follow statement is specific to resampling for model evaluation:\n",
    "    Resampling methods involve repeatedly drawing samples from a training set  and re-fitting a model. The collection of best-fit models provides confidence in model fitting.\n",
    "More broadly, resampling methods refer to any technique where we repeatedly draw observations from some sample. We should use the more broad definition at the introduction of this section.\n",
    "--->\n",
    "\n",
    "The lecture introduces resampling techniques in several ways. We explore various fundamental examples of resampling (Level 1) and demonstrate how resampling can be used for model inference of a linear regression (Level 2).\n",
    "\n",
    "First of all, import some useful modules:"
   ]
  },
  {
   "cell_type": "code",
   "execution_count": 1,
   "metadata": {},
   "outputs": [],
   "source": [
    "import requests, zipfile, io, gzip, glob, os\n",
    "import matplotlib.pyplot as plt\n",
    "import numpy as np\n",
    "import pandas as pd\n",
    "%matplotlib inline"
   ]
  },
  {
   "cell_type": "code",
   "execution_count": null,
   "metadata": {},
   "outputs": [],
   "source": [
    "# We define a random generator\n",
    "rng = np.random.default_rng()"
   ]
  },
  {
   "cell_type": "markdown",
   "metadata": {},
   "source": [
    "## 1. Examples of resampling techniques (Level 1)\n",
    "\n",
    "### 1.1 Randomization\n",
    "\n",
    "As we introduced in class: \n",
    "\n",
    "Given two datasets, $A$ and $B$, and a parameter, $x$, we can randomly assign observations to either $A$ or $B$, calculate some statistic (e.g., $x_A - x_B$), and repeat to build a distribution of that statistic."
   ]
  },
  {
   "cell_type": "code",
   "execution_count": null,
   "metadata": {},
   "outputs": [],
   "source": [
    "# We begin with two datasets, A and B\n",
    "A = rng.normal(5, 2.5, 100)\n",
    "B = rng.normal(5.5, 2.5, 100)\n",
    "\n",
    "# We then calculate the means of each dataset\n",
    "mean_A = np.mean(A)\n",
    "mean_B = np.mean(B)\n",
    "\n",
    "print('The means of A and B are, ' + str(mean_A) + ' and ' + str(mean_B) + ', respectively.')\n",
    "\n",
    "# And, for the sake of illustration, also calculate the difference between these means\n",
    "\n",
    "diff_means = mean_A - mean_B\n",
    "\n",
    "print('The difference of means is, ' + str(diff_means) + '.')"
   ]
  },
  {
   "cell_type": "markdown",
   "metadata": {},
   "source": [
    "Now, we will want to resample."
   ]
  },
  {
   "cell_type": "code",
   "execution_count": null,
   "metadata": {},
   "outputs": [],
   "source": [
    "# First, how many times do we want to resample?\n",
    "number_runs = 10000"
   ]
  },
  {
   "cell_type": "code",
   "execution_count": null,
   "metadata": {},
   "outputs": [],
   "source": [
    "# Next, we create an array that will store the difference of means\n",
    "array_of_diffs = np.zeros([number_runs, 1])\n",
    "# To ease computational burden, let's declare some variables\n",
    "# A combined list of A and B\n",
    "combined = np.concatenate((A, B))\n",
    "# Length of A and B\n",
    "length_A = len(A)"
   ]
  },
  {
   "cell_type": "markdown",
   "metadata": {},
   "source": [
    "For each time we resample, we recalculate the mean and recalculate the difference "
   ]
  },
  {
   "cell_type": "code",
   "execution_count": null,
   "metadata": {},
   "outputs": [],
   "source": [
    "# For each run:\n",
    "for i in range(number_runs):\n",
    "    # Let us shuffle the combined list\n",
    "    # Note that shuffle works in place!\n",
    "    rng.shuffle(combined)\n",
    "    # Now, split the list into A and B, maintaining their original sizes\n",
    "    # Notice the slice syntax!\n",
    "    new_A = combined[0:length_A]\n",
    "    new_B = combined[length_A:len(combined)]\n",
    "    # Calculate and store a difference of means\n",
    "    array_of_diffs[i] = np.mean(new_A) - np.mean(new_B)"
   ]
  },
  {
   "cell_type": "code",
   "execution_count": null,
   "metadata": {},
   "outputs": [],
   "source": [
    "# Plot up the array of diffs\n",
    "plt.hist(array_of_diffs, color='black')\n",
    "\n",
    "# Given an alpha of 0.05, can we accept or reject the null hypothesis of no difference in means?\n",
    "\n",
    "alpha = 0.05\n",
    "lower_critical_value = np.quantile(array_of_diffs, alpha/2)\n",
    "upper_critical_value = np.quantile(array_of_diffs, 1-(alpha/2))\n",
    "\n",
    "# Plot the critical values and the observed value\n",
    "plt.axvline(x = diff_means, color='r')\n",
    "plt.axvline(x = lower_critical_value, color='g')\n",
    "plt.axvline(x = upper_critical_value, color='b')\n",
    "plt.xlabel('Difference of means')\n",
    "plt.ylabel('Count')\n",
    "plt.legend(['Observed difference of means', 'Lower critical value', 'Upper critical value'], loc='center left', bbox_to_anchor=(1, 0.5))\n",
    "# Show your plot\n",
    "plt.show()"
   ]
  },
  {
   "cell_type": "markdown",
   "metadata": {},
   "source": [
    "### 1.2 Bootstrapping\n",
    "\n",
    "When bootstrapping, you repeatedly draw observations, **with replacement**, from a dataset. Since you are drawing with replacement, your newly resampled dataset likely will contain duplicate observations from the original sample.\n",
    "\n",
    "Bootstrapping does not make strong assumptions about the underlying distribution of the dataset. \n",
    "\n",
    "We will first create correlated data using the numpy function ``random.multivariate_normal`` ([docs here](https://numpy.org/doc/stable/reference/random/generated/numpy.random.multivariate_normal.html)). The mean of both data will be zero and their covariance is -0.75. \n"
   ]
  },
  {
   "cell_type": "code",
   "execution_count": null,
   "metadata": {},
   "outputs": [],
   "source": [
    "# We begin with a dataset where two variables are strongly correlated\n",
    "correlated_data= np.random.multivariate_normal([0, 0], [[1, -.75], [-.75, 1]], 1000)"
   ]
  },
  {
   "cell_type": "markdown",
   "metadata": {},
   "source": [
    "First, we check that the data is indeed anticorrelated by plotting one against the other"
   ]
  },
  {
   "cell_type": "code",
   "execution_count": null,
   "metadata": {},
   "outputs": [],
   "source": [
    "plt.scatter(correlated_data[:, 0], correlated_data[:, 1], marker='x', c='black')\n",
    "plt.xlabel('X')\n",
    "plt.ylabel('Y')\n",
    "plt.legend(['Observation'])\n",
    "plt.show()"
   ]
  },
  {
   "cell_type": "markdown",
   "metadata": {},
   "source": [
    "We can verify that the Pearson [correlation coefficient](https://en.wikipedia.org/wiki/Correlation_coefficient) is close to our target using the numpy function ``corrcoef``."
   ]
  },
  {
   "cell_type": "code",
   "execution_count": null,
   "metadata": {},
   "outputs": [],
   "source": [
    "# The correlation matrix of the first and second columns of correlated_data\n",
    "correlation_matrix = np.corrcoef(correlated_data[:, 0], correlated_data[:, 1])\n",
    "\n",
    "# Check the correlation coefficient\n",
    "print('The correlation coefficient is: ' + str(correlation_matrix[0,1]) + '.')"
   ]
  },
  {
   "cell_type": "markdown",
   "metadata": {},
   "source": [
    "We now take a subset of the data --- think of the subset as a *sample of the true population*."
   ]
  },
  {
   "cell_type": "code",
   "execution_count": null,
   "metadata": {},
   "outputs": [],
   "source": [
    "nsubset=10\n",
    "subset = rng.choice(correlated_data, size=nsubset, replace=False)"
   ]
  },
  {
   "cell_type": "markdown",
   "metadata": {},
   "source": [
    "We can calculate the correlation coefficent of this sample."
   ]
  },
  {
   "cell_type": "code",
   "execution_count": null,
   "metadata": {},
   "outputs": [],
   "source": [
    "# Report the correlation coefficient of the subset\n",
    "print('The correlation coefficient of our sample is: ' + str(np.corrcoef(subset[:,0], subset[:, 1])[0,1]) + '.')\n",
    "\n",
    "# Plot up both the original data and our sample\n",
    "plt.scatter(correlated_data[:, 0], correlated_data[:, 1], marker='x', c='black')\n",
    "plt.scatter(subset[:,0], subset[:, 1], c='red')\n",
    "plt.xlabel('X')\n",
    "plt.ylabel('Y')\n",
    "plt.legend(['True population', 'Subset'])\n",
    "plt.show()"
   ]
  },
  {
   "cell_type": "markdown",
   "metadata": {},
   "source": [
    "Now, we will bootstrap. Once again, we define a number of runs. "
   ]
  },
  {
   "cell_type": "code",
   "execution_count": null,
   "metadata": {},
   "outputs": [],
   "source": [
    "number_runs =1000"
   ]
  },
  {
   "cell_type": "markdown",
   "metadata": {},
   "source": [
    "Each time we resample, we will calculate and store the correlation coefficent of the resampled data."
   ]
  },
  {
   "cell_type": "code",
   "execution_count": null,
   "metadata": {},
   "outputs": [],
   "source": [
    "# Create an array that will keep track of the outputs of our resampling loop. In this case, we just want to record the correlation coefficient of each new sample. \n",
    "corr_coef_collector = np.zeros([number_runs, 1])\n",
    "\n",
    "# Let's also get the length of the subset\n",
    "# When bootstrapping, the size of your resampled dataset should match the size of your original sample!\n",
    "length_sub = len(subset)\n",
    "\n",
    "# Now, for each run\n",
    "for i in range(number_runs):\n",
    "    # We want to draw length_sub samples WITH REPLACEMENT\n",
    "    new_pairs = rng.choice(subset, size=length_sub, replace=True)\n",
    "    # Calculate and store the correlation coefficient\n",
    "    corr_coef_collector[i] = np.corrcoef(new_pairs[:, 0], new_pairs[:, 1])[0,1]\n",
    "\n",
    "# Plot up the corr_coef_collector values\n",
    "plt.hist(corr_coef_collector, color='black')\n",
    "plt.xlabel('Correlation coefficient')\n",
    "plt.ylabel('Count')\n",
    "\n",
    "# Show the true correlation coefficient\n",
    "plt.axvline(x=correlation_matrix[0,1], color='red')\n",
    "plt.axvline(x=np.median(corr_coef_collector), color='blue')\n",
    "plt.legend(['True correlation coefficient', 'Median correlation coefficient'])\n",
    "plt.show()"
   ]
  },
  {
   "cell_type": "markdown",
   "metadata": {},
   "source": [
    "We see that the median Pearson coefficient is not exactly the true Pearson coefficient. Why is that?\n",
    "\n",
    "What happens if you increase the size of the subset (e.g., your sample of the true population)?"
   ]
  },
  {
   "cell_type": "markdown",
   "metadata": {},
   "source": [
    "### 1.3 Monte Carlo\n",
    "\n",
    "Named after the casino in Monaco, Monte Carlo methods involve *simulating new data* based on a known (or assumed!) statistical model. Unlike the previous two examples, we do not take draws from an existing sample. \n",
    "\n",
    "Monte Carlo techniques have many applications. For example, you might see Monte Carlo methods used for probabilistic risk assessment, uncertainty propagation in models, and evaluating complex systems' performance. It is especially valuable when dealing with complex geospatial, environmental, or engineering models, where the relationships among variables are not easily captured by simple parametric methods."
   ]
  },
  {
   "cell_type": "markdown",
   "metadata": {},
   "source": [
    "Here, we demonstrate Monte Carlo sampling by trying to estimate $\\pi$.\n",
    "\n",
    "We begin with a central conceit: that the ratio of the area of a circle to the area of the square is $\\pi/4$.\n",
    "\n",
    "We then imagine a circle of radius 1 that is inscribed within a square with sides going from -1 to 1. "
   ]
  },
  {
   "cell_type": "code",
   "execution_count": null,
   "metadata": {},
   "outputs": [],
   "source": [
    "# We're going to draw a (x,y) point from a *uniform* distribution and then determine whether that point sits within the circle. If it does, we append it to two lists: points within the circle and points within the square. If not, we append it only to a list of points inside the square\n",
    "in_circle = np.empty([0,2])\n",
    "in_square = np.empty([0,2])\n",
    "\n",
    "# Now, let's generate many samples\n",
    "# Here, we redefine number_runs for efficiency's sake\n",
    "number_runs = 50\n",
    "\n",
    "for _ in range(number_runs): # note that _ allows to avoid creating a variable\n",
    "    # Okay, get an x point and a y point\n",
    "    x = rng.uniform(low=-1, high=1)\n",
    "    y = rng.uniform(low=-1, high=1)\n",
    "    # How far is this point from the origin?\n",
    "    origin_dist = x**2 + y**2\n",
    "    # If origin_dist is less than 1, then this point is inside the circle\n",
    "    if origin_dist <= 1:\n",
    "        in_circle = np.append(in_circle, [[x, y]], axis=0)\n",
    "    in_square = np.append(in_square, [[x, y]], axis=0)"
   ]
  },
  {
   "cell_type": "code",
   "execution_count": null,
   "metadata": {},
   "outputs": [],
   "source": [
    "# We can visualize what we just did\n",
    "plt.scatter(in_square[:,0], in_square[:,1], marker='x', c='black')\n",
    "plt.scatter(in_circle[:,0], in_circle[:,1], marker='o', c='red')\n",
    "plt.xlabel('X coordinate')\n",
    "plt.ylabel('Y coordinate')\n",
    "plt.legend(['Points in square', 'Points in circle'], loc='center left', bbox_to_anchor=(1, 0.5))\n",
    "ax = plt.gca()\n",
    "ax.set_aspect('equal', adjustable='box')\n",
    "plt.show()"
   ]
  },
  {
   "cell_type": "markdown",
   "metadata": {},
   "source": [
    "We now estimate $\\pi$ by using the length of the number points in the circle and in the quarter as approximation to their area."
   ]
  },
  {
   "cell_type": "code",
   "execution_count": null,
   "metadata": {},
   "outputs": [],
   "source": [
    "# Let us estimate pi\n",
    "\n",
    "pi_est = 4 * (len(in_circle) / len(in_square))\n",
    "              \n",
    "print('We estimate the value of pi to be: ' + str(pi_est) + '.')"
   ]
  },
  {
   "cell_type": "markdown",
   "metadata": {},
   "source": [
    "Now with a few runs, we do not get a good answer. \n",
    "\n",
    "In fact, a Monte Carlo approach needs more runs to **converge**. \n",
    "\n",
    "You should explore how changing the number of runs changes your estimate of $\\pi$ (and how your calculation converges)."
   ]
  },
  {
   "cell_type": "markdown",
   "metadata": {},
   "source": [
    "## Using resampling for robust model inference (Level 2)\n",
    "\n",
    "### 2.1 Plate Motion - Geodetic Data\n",
    "\n",
    "For this tutorial, we use a GPS time series in the Pacific Northwest and explore the long term motions that are due to the Cascadia subduction zone. \n",
    "\n",
    "We will download GPS time series from the University of Nevada - Reno [data center](!http://geodesy.unr.edu/NGLStationPages/gpsnetmap/GPSNetMap.html).\n"
   ]
  },
  {
   "cell_type": "code",
   "execution_count": 11,
   "metadata": {},
   "outputs": [],
   "source": [
    "# The station designation\n",
    "sta=\"P395\"\n",
    "file_url=\"http://geodesy.unr.edu/gps_timeseries/tenv/IGS14/\"+ sta + \".tenv\"\n",
    "r = requests.get(file_url).text.splitlines()  # download, read text, split lines into a list\n",
    "ue=[];un=[];uv=[];se=[];sn=[];sv=[];date=[];date_year=[];df=[]\n",
    "for iday in r:  # this loops through the days of data\n",
    "    crap=iday.split()\n",
    "    if len(crap)<10:\n",
    "      continue\n",
    "    date.append((crap[1]))\n",
    "    date_year.append(float(crap[2]))\n",
    "    ue.append(float(crap[7])*1000)\n",
    "    un.append(float(crap[8])*1000)\n",
    "    uv.append(float(crap[9])*1000)\n",
    "#             # errors\n",
    "    se.append(float(crap[10])*1000)\n",
    "    sn.append(float(crap[11])*1000)\n",
    "    sv.append(float(crap[12])*1000)"
   ]
  },
  {
   "cell_type": "code",
   "execution_count": 12,
   "metadata": {},
   "outputs": [
    {
     "data": {
      "text/html": [
       "<div>\n",
       "<style scoped>\n",
       "    .dataframe tbody tr th:only-of-type {\n",
       "        vertical-align: middle;\n",
       "    }\n",
       "\n",
       "    .dataframe tbody tr th {\n",
       "        vertical-align: top;\n",
       "    }\n",
       "\n",
       "    .dataframe thead th {\n",
       "        text-align: right;\n",
       "    }\n",
       "</style>\n",
       "<table border=\"1\" class=\"dataframe\">\n",
       "  <thead>\n",
       "    <tr style=\"text-align: right;\">\n",
       "      <th></th>\n",
       "      <th>date_year</th>\n",
       "      <th>east</th>\n",
       "      <th>north</th>\n",
       "      <th>up</th>\n",
       "    </tr>\n",
       "  </thead>\n",
       "  <tbody>\n",
       "    <tr>\n",
       "      <th>count</th>\n",
       "      <td>6407.000000</td>\n",
       "      <td>6.407000e+03</td>\n",
       "      <td>6.407000e+03</td>\n",
       "      <td>6407.000000</td>\n",
       "    </tr>\n",
       "    <tr>\n",
       "      <th>mean</th>\n",
       "      <td>2014.866176</td>\n",
       "      <td>3.347626e+06</td>\n",
       "      <td>4.987420e+09</td>\n",
       "      <td>53038.716661</td>\n",
       "    </tr>\n",
       "    <tr>\n",
       "      <th>std</th>\n",
       "      <td>5.090887</td>\n",
       "      <td>3.288936e+01</td>\n",
       "      <td>1.770970e+01</td>\n",
       "      <td>5.622003</td>\n",
       "    </tr>\n",
       "    <tr>\n",
       "      <th>min</th>\n",
       "      <td>2006.067100</td>\n",
       "      <td>3.347564e+06</td>\n",
       "      <td>4.987420e+09</td>\n",
       "      <td>52997.270000</td>\n",
       "    </tr>\n",
       "    <tr>\n",
       "      <th>25%</th>\n",
       "      <td>2010.468150</td>\n",
       "      <td>3.347598e+06</td>\n",
       "      <td>4.987420e+09</td>\n",
       "      <td>53034.980000</td>\n",
       "    </tr>\n",
       "    <tr>\n",
       "      <th>50%</th>\n",
       "      <td>2014.855600</td>\n",
       "      <td>3.347629e+06</td>\n",
       "      <td>4.987420e+09</td>\n",
       "      <td>53038.540000</td>\n",
       "    </tr>\n",
       "    <tr>\n",
       "      <th>75%</th>\n",
       "      <td>2019.262150</td>\n",
       "      <td>3.347654e+06</td>\n",
       "      <td>4.987420e+09</td>\n",
       "      <td>53042.310000</td>\n",
       "    </tr>\n",
       "    <tr>\n",
       "      <th>max</th>\n",
       "      <td>2024.024600</td>\n",
       "      <td>3.347683e+06</td>\n",
       "      <td>4.987420e+09</td>\n",
       "      <td>53065.440000</td>\n",
       "    </tr>\n",
       "  </tbody>\n",
       "</table>\n",
       "</div>"
      ],
      "text/plain": [
       "         date_year          east         north            up\n",
       "count  6407.000000  6.407000e+03  6.407000e+03   6407.000000\n",
       "mean   2014.866176  3.347626e+06  4.987420e+09  53038.716661\n",
       "std       5.090887  3.288936e+01  1.770970e+01      5.622003\n",
       "min    2006.067100  3.347564e+06  4.987420e+09  52997.270000\n",
       "25%    2010.468150  3.347598e+06  4.987420e+09  53034.980000\n",
       "50%    2014.855600  3.347629e+06  4.987420e+09  53038.540000\n",
       "75%    2019.262150  3.347654e+06  4.987420e+09  53042.310000\n",
       "max    2024.024600  3.347683e+06  4.987420e+09  53065.440000"
      ]
     },
     "execution_count": 12,
     "metadata": {},
     "output_type": "execute_result"
    }
   ],
   "source": [
    "# We now make a data frame\n",
    "crap={'station':sta,'date':date,'date_year':date_year,'east':ue,'north':un,'up':uv}\n",
    "if len(df)==0:\n",
    "    df = pd.DataFrame(crap, columns = ['station', 'date','date_year','east','north','up'])\n",
    "else:\n",
    "    df=pd.concat([df,pd.DataFrame(crap, columns = ['station', 'date','date_year','east','north','up'])])\n",
    "df.describe()"
   ]
  },
  {
   "cell_type": "code",
   "execution_count": 13,
   "metadata": {},
   "outputs": [
    {
     "data": {
      "text/plain": [
       "Text(0.5, 0, 'Time (years)')"
      ]
     },
     "execution_count": 13,
     "metadata": {},
     "output_type": "execute_result"
    },
    {
     "data": {
      "image/png": "[encoded data removed]",
      "text/plain": [
       "<Figure size 1100x800 with 3 Axes>"
      ]
     },
     "metadata": {},
     "output_type": "display_data"
    }
   ],
   "source": [
    "# Plot the GPS time series\n",
    "fig,ax=plt.subplots(3,1,figsize=(11,8),sharex=True)\n",
    "ax[0].plot(df['date_year'][df['station']==sta],df['east'][df['station']==sta]);ax[0].grid(True);ax[0].set_ylabel('East (mm)')\n",
    "ax[1].plot(df['date_year'][df['station']==sta],df['north'][df['station']==sta]);ax[1].grid(True);ax[1].set_ylabel('North (mm)')\n",
    "ax[2].plot(df['date_year'][df['station']==sta],df['up'][df['station']==sta]);ax[2].grid(True);ax[2].set_ylabel('Up (mm)')\n",
    "ax[2].set_xlabel('Time (years)')"
   ]
  },
  {
   "cell_type": "markdown",
   "metadata": {},
   "source": [
    "## 2.2 Linear regression\n",
    "\n",
    "There is a clean **linear trend** in the horizontal position data over the course of the past 16 years. We can fit the data using:\n",
    "\n",
    "$E(t) = V_e t + u_e,$\\\n",
    "$N(t) = V_n t + u_n,$\n",
    "\n",
    "where $t$ is time. We want to regress the data to find the coefficients $V_e$, $u_e$, $V_n$, $u_n$. The displacements are mostly westward, so we will just focus on the East $E(t)$ component for this exercise. The coefficients $u_e$ and $u_n$ are the intercept at $t=0$. They are not zero in this case because $t$ starts in 2006. The coefficients $V_e$ and $V_n$ have the dimension of velocities:\n",
    "\n",
    "$V_e \\sim E(t) / t$ , $V_n \\sim N(t) / t$ ,\n",
    "\n",
    "therefore, we will use this example to discuss a simple **linear regression** and resampling method. We will use both a Scipy function and a Scikit-learn function.\n",
    "\n",
    "To measure a fit performance, we will measure how well the variance is reduced by fitting the data (scatter points) against the model. The variance is:\n",
    "\n",
    "$\\text{Var}(x) = 1/n \\sum_{i=1}^n (x_i-\\hat{x})^2$, \n",
    "\n",
    "where $\\hat{x}$ is the mean of $x$.  When fitting the regression, we predict the values $x_{pred}$. The residuals are the differences between the data and the predicted values: $e = x - x_{pred} $. $R^2$ or <i> coefficient of determination</i> is:\n",
    "\n",
    "$R^2 = 1 - \\text{Var}(x-x_{pred}) /\\text{Var}(x)  = 1 - \\text{Var}(e) /\\text{Var}(x) $\n",
    "\n",
    "The smaller the error, the \"better\" the fit (we will discuss later that a fit can be too good!), the closer $R^2$ is to one."
   ]
  },
  {
   "cell_type": "code",
   "execution_count": null,
   "metadata": {},
   "outputs": [],
   "source": [
    "# now let's find the trends and detrend the data.\n",
    "from scipy import stats\n",
    "# linear regression such that: displacement = Velocity * time\n",
    "# velocity in the East component.\n",
    "Ve, intercept, r_value, p_value, std_err = stats.linregress(df['date_year'][df['station']==sta],df['east'][df['station']==sta])\n",
    "# horizontal plate motion:\n",
    "print(sta,\"overall plate motion there\",Ve,'mm/year')\n",
    "print(\"parameters: Coefficient of determination %f4.2, P-value %f4.2, standard deviation of errors %f4.2\"\\\n",
    "      %(r_value,p_value,std_err))\n"
   ]
  },
  {
   "cell_type": "markdown",
   "metadata": {},
   "source": [
    "We can also use the ``scikit-learn`` package:"
   ]
  },
  {
   "cell_type": "code",
   "execution_count": null,
   "metadata": {},
   "outputs": [],
   "source": [
    "from sklearn.linear_model import LinearRegression\n",
    "# convert the data into numpy arrays.\n",
    "E = np.asarray(df['east'][df['station']==sta]).reshape(-1, 1)# reshaping was necessary to be an argument of Linear regress\n",
    "t = np.asarray(df['date_year'][df['station']==sta]).reshape(-1, 1)\n",
    "tt = np.linspace(np.min(t),np.max(t),1000)\n",
    "\n",
    "# perform the linear regression. First we will use the entire available data\n",
    "regr = LinearRegression()\n",
    "# we will first perform the fit:\n",
    "regr.fit(t,E)\n",
    "# We will first predict the fit:\n",
    "Epred=regr.predict(t) \n",
    "\n",
    "# The coefficients\n",
    "print('Coefficient / Velocity eastward (mm/year): ', regr.coef_[0][0])\n",
    "\n",
    "plt.plot(t,E);ax[0].grid(True);ax[0].set_ylabel('East (mm)')\n",
    "plt.plot(t,Epred,color=\"red\")\n",
    "plt.grid(True)\n",
    "plt.xticks(())\n",
    "plt.yticks(())\n",
    "plt.show()\n"
   ]
  },
  {
   "cell_type": "markdown",
   "metadata": {},
   "source": [
    "To evaluate the errors of the model fit using the module ``sklearn``, we will use the following function"
   ]
  },
  {
   "cell_type": "code",
   "execution_count": null,
   "metadata": {},
   "outputs": [],
   "source": [
    "from sklearn.metrics import mean_squared_error, r2_score\n",
    "# The mean squared error\n",
    "print('Mean squared error (mm): %.2f'\n",
    "      % mean_squared_error(E, Epred))\n",
    "# The coefficient of determination: 1 is the perfect prediction\n",
    "print('Coefficient of determination: %.2f'\n",
    "      % r2_score(E, Epred))"
   ]
  },
  {
   "cell_type": "markdown",
   "metadata": {},
   "source": [
    "### 2.3 Bootstrapping\n",
    "\n",
    "\n",
    "Now we will use again bootstrapping to estimate the slope of the regression over many resampled data.\n",
    "\n",
    "\n",
    "Scikit-learn seems to have deprecated the bootstrap function, but we can find ``resample`` in the ``utils`` module. Make sure you use ``replace=True``.\n",
    "For reproducible results, you can select a fixed ``random_state=int`` to be kept in the workflow. Usually bootstrapping is done over many times (unlike K-fold cross validation)."
   ]
  },
  {
   "cell_type": "code",
   "execution_count": null,
   "metadata": {},
   "outputs": [],
   "source": [
    "from sklearn.utils import resample\n",
    "k=1000\n",
    "vel = np.zeros(k) # initalize a vector to store the regression values\n",
    "mse = np.zeros(k)\n",
    "r2s = np.zeros(k)\n",
    "i=0\n",
    "for iik in range(k):    \n",
    "    ii = resample(np.arange(len(E)),replace=True,n_samples=len(E))# new indices\n",
    "    E_b, t_b = E[ii], t[ii]\n",
    "    # now fit the data on the training set.\n",
    "    regr = LinearRegression()\n",
    "    # Fit on training data:\n",
    "    regr.fit(t_b,E_b)\n",
    "    Epred_val=regr.predict(t) # test on the validation set.\n",
    "\n",
    "    # The coefficients\n",
    "    vel[i]= regr.coef_[0][0]\n",
    "    i+=1\n",
    "\n",
    "# the data shows clearly a trend, so the predictions of the trends are close to each other:\n",
    "print(\"mean of the velocity estimates %f4.2 and the standard deviation %f4.2\"%(np.mean(vel),np.std(vel)))\n",
    "\n",
    "plt.hist(vel,50);plt.title('Distribution of eastward velocities (mm/year)');plt.grid(True)\n",
    "plt.show()"
   ]
  },
  {
   "cell_type": "markdown",
   "metadata": {},
   "source": [
    "\n",
    "### 2.4 Cross validation\n",
    "x\n",
    "\n",
    "Cross-validation is a widely used technique in machine learning to assess the **performance** and **generalization** of a model. It involves partitioning the dataset into multiple subsets, training the model on a portion of the data, and then evaluating its performance on the remaining data. This process is repeated several times, and *the results are averaged* to obtain a more reliable estimate of the model's performance. The primary goal is *to mitigate the risk of overfitting and obtain a more robust evaluation metric*.\n",
    "\n",
    "There are several tutorials on [cross-validation](!https://scikit-learn.org/stable/modules/cross_validation.html).\n",
    "\n",
    "Cross-validation divides the data set between a *training* set and a *validation* set:\n",
    "\n",
    "<div>\n",
    "<img src=\"ValsetApproach.png\" width=\"500\"/>\n",
    "</div>\n",
    "From: scikit-learn: concept for training and validation set.\n",
    "\n",
    "Often the validation set ends up underestimating the prediction errors (model uncertainties) because the validation set is often smaller than the training set. To alleviate that, we can perform cross-validation over many folds of selecting a validation and training set.\n",
    "<div>\n",
    "<img src=\"grid_search_cross_validation.png\" width=\"500\"/>\n",
    "</div>\n",
    "From: scikit-learn\n",
    "\n",
    "\n",
    "* **Data Splitting**: Cross-validation involves *partitioning a dataset into multiple subsets*, typically a training set and a testing set. This splitting allows for model assessment and validation.\n",
    "\n",
    "* **Estimation**: Cross-validation is primarily used to *assess the predictive performance* of machine learning models or statistical models. It helps in estimating how well a model will generalize to new, unseen data by testing its performance on data that was not used in training.\n",
    "\n",
    "* **Correlated Data**: Cross-validation does not explicitly address correlated data, and its effectiveness can be influenced by the data splitting strategy. _When data exhibits strong correlations, it's essential to carefully design the cross-validation procedure to ensure that all subsets represent the overall data distribution_.\n",
    "\n",
    "* **Applications**: Cross-validation is widely employed in *model selection*, *hyperparameter tuning*, and *assessing the generalization ability* of models. \n",
    "\n",
    "We will now randomly select a training and validation set using the ``sklearn`` module:"
   ]
  },
  {
   "cell_type": "code",
   "execution_count": null,
   "metadata": {},
   "outputs": [],
   "source": [
    "# we randomly select values and split the data between training and validation set.\n",
    "from sklearn.model_selection import ShuffleSplit\n",
    "# we split once the data between a training and a validating set \n",
    "n=1 # we do this selection once\n",
    "v_size = 0.3 # 30% of the data will be randomly selected to be the validation set.\n",
    "\n",
    "rs = ShuffleSplit(n_splits=n, test_size=.3, random_state=0)\n",
    "for train_index, val_index in rs.split(E):\n",
    "    E_train, E_val = E[train_index], E[val_index]\n",
    "    t_train, t_val = t[train_index], t[val_index]\n",
    "plt.scatter(t_train,E_train,marker=\"o\");plt.grid(True);plt.ylabel('East (mm)')\n",
    "plt.scatter(t_val,E_val,marker=\"o\",s=6,c=\"red\")\n",
    "plt.xlabel('Time (years)')\n",
    "plt.title('East component')\n",
    "plt.legend(['training set','validation set'])"
   ]
  },
  {
   "cell_type": "markdown",
   "metadata": {},
   "source": [
    "Now fit the data and evaluate the error"
   ]
  },
  {
   "cell_type": "code",
   "execution_count": null,
   "metadata": {},
   "outputs": [],
   "source": [
    "# now fit the data on the training set.\n",
    "regr = LinearRegression()\n",
    "# Fit on training data:\n",
    "regr.fit(t_train,E_train)\n",
    "# We will first predict the fit:\n",
    "Epred=regr.predict(t_train) \n",
    "Epred_val=regr.predict(t_val) \n",
    "\n",
    "# The coefficients\n",
    "print('Training set: Coefficient / Velocity eastward (mm/year): ', regr.coef_[0][0])\n",
    "\n",
    "print('MSE (mean square error) on training set (mm): %.2f'\n",
    "      % mean_squared_error(Epred, E_train))\n",
    "# The coefficient of determination: 1 is the perfect prediction\n",
    "print('Coefficient of determination on training set: %.2f'\n",
    "      % r2_score(Epred, E_train))\n",
    "\n",
    "print('MSE on validation set (mm): %.2f and coefficient of determiniation on %.2f' %(mean_squared_error(Epred_val, E_val), r2_score(Epred_val, E_val)))\n",
    "\n",
    "\n",
    "plt.plot(t,E);plt.grid(True);plt.ylabel('East (mm)')\n",
    "plt.plot(t_train,Epred,color=\"red\",linewidth=4)\n",
    "plt.plot(t_val,Epred_val,color=\"green\")\n",
    "plt.legend(['data','fit on training','fit on validation'])\n",
    "plt.title('Random selection for data split')\n"
   ]
  },
  {
   "cell_type": "markdown",
   "metadata": {},
   "source": [
    "We can also select the training and validation to be chronological. If the \"state\" of the data changes through time, this may induce a bias in the training. But let's see."
   ]
  },
  {
   "cell_type": "code",
   "execution_count": null,
   "metadata": {},
   "outputs": [],
   "source": [
    "E_train, E_val = E[:2*len(E)//3], E[2*len(E)//3+1:]\n",
    "t_train, t_val = t[:2*len(E)//3], t[2*len(E)//3+1:]\n",
    "plt.scatter(t_train,E_train,marker=\"o\");plt.grid(True);plt.ylabel('East (mm)')\n",
    "plt.scatter(t_val,E_val,marker=\"o\",s=6,c=\"red\")\n",
    "plt.xlabel('Time (years)')\n",
    "plt.title('East component')\n",
    "plt.legend(['training set','validation set'])\n",
    "\n",
    "# now fit the data on the training set.\n",
    "regr = LinearRegression()\n",
    "# Fit on training data:\n",
    "regr.fit(t_train,E_train)\n",
    "# We will first predict the fit:\n",
    "Epred=regr.predict(t) \n",
    "Epred_val=regr.predict(t_val) \n",
    "\n",
    "# The coefficients\n",
    "print(' Training set: Coefficient / Velocity eastward (mm/year): ', regr.coef_[0][0])\n",
    "\n",
    "print('Validation set MSE (mm) and Coef of Determination: %.2f,%.2f' \n",
    "%(mean_squared_error(E_val, Epred_val),r2_score(E_val, Epred_val)))\n",
    "\n",
    "\n",
    "plt.plot(t,Epred,color=\"blue\")\n",
    "plt.plot(t_val,Epred_val,color=\"green\")\n",
    "plt.legend(['data','fit on training','fit on validation'])\n",
    "plt.title('Chronological selection for data split')\n"
   ]
  },
  {
   "cell_type": "markdown",
   "metadata": {},
   "source": [
    "Now you see that the choice of _training_ vs _validating_ data is important to fit a model that will generalize. "
   ]
  },
  {
   "cell_type": "markdown",
   "metadata": {},
   "source": [
    "### 2.5 Leave One Out Cross Validation\n",
    "\n",
    "LOOCV splits the data in 2 sets (training and validation) <i>n</i> times (<i>n</i> is the number of data points). At each repeat, the training set is **all but one** data, the validation set is one element.\n",
    "\n",
    "<div>\n",
    "<img src=\"LOOCV.png\" width=\"500\"/>\n",
    "</div>\n",
    "Advantages: it has far less bias with respect to the training data. It does not overestimate the test error. Repeated LOOCV will give the exact same results.\n",
    "\n",
    "Disadvantages: it is computationally intensive.\n",
    "\n",
    "* **Data Splitting**: LOOCV is an extreme form of cross-validation where, for each iteration, only one data point is left out as the test set, and the remaining data is used as the training set. This process is repeated for each data point, effectively creating as many folds as there are data points.\n",
    "\n",
    "* **Estimation**: LOOCV is primarily used for assessing model performance and estimating predictive accuracy. By evaluating the model against all data points one at a time, LOOCV provides a robust assessment of a model's ability to generalize to unseen data.\n",
    "\n",
    "* **Correlated Data**: LOOCV, like other cross-validation methods, may not explicitly address correlated data. However, its performance can be influenced by the correlation structure in the data. For datasets with strong correlations, LOOCV may lead to models that are overly optimistic since it often tests a model on data points that are closely related to the training set.\n",
    "\n",
    "* **Applications**: LOOCV is valuable for evaluating machine learning and statistical models, particularly when you have a limited amount of data."
   ]
  },
  {
   "cell_type": "code",
   "execution_count": null,
   "metadata": {},
   "outputs": [],
   "source": [
    "from sklearn.model_selection import LeaveOneOut\n",
    "loo = LeaveOneOut()\n",
    "\n",
    "vel = np.zeros(len(E)) # initalize a vector to store the regression values\n",
    "mse_train = np.zeros(len(E))\n",
    "mse_val = np.zeros(len(E))\n",
    "r2s = np.zeros(len(E))\n",
    "i=0\n",
    "for train_index, test_index in loo.split(E):    \n",
    "    E_train, E_val = E[train_index], E[val_index]\n",
    "    t_train, t_val = t[train_index], t[val_index]\n",
    "    # now fit the data on the training set.\n",
    "    regr = LinearRegression()\n",
    "    # Fit on training data:\n",
    "    regr.fit(t_train,E_train)\n",
    "    # We will first predict the fit:\n",
    "    Epred_train=regr.predict(t_train) \n",
    "    Epred_val=regr.predict(t_val) \n",
    "\n",
    "    # The coefficients\n",
    "    vel[i]= regr.coef_[0][0]\n",
    "    mse_train[i]= mean_squared_error(E_train, Epred_train)\n",
    "    mse_val[i]= mean_squared_error(E_val, Epred_val)\n",
    "    r2s[i]=r2_score(E_val, Epred_val)\n",
    "    i+=1\n",
    "\n",
    "# the data shows clearly a trend, so the predictions of the trends are close to each other:\n",
    "print(\"mean of the velocity estimates %f4.2 and the standard deviation %f4.2\"%(np.mean(vel),np.std(vel)))\n",
    "# the test error is the average of the mean-square-errors\n",
    "print(\"CV = %4.2f\"%(np.mean(mse_val)))"
   ]
  },
  {
   "cell_type": "markdown",
   "metadata": {},
   "source": [
    "LOOCV is rarely used in practice. This example is just to show the extreme end member of cross-fold validation."
   ]
  },
  {
   "cell_type": "markdown",
   "metadata": {},
   "source": [
    "### 2.6 K-fold cross validation\n",
    "\n",
    "Designed to reduce the computational cost of LOOCV. Randomly devide over <i>k</i> groups/folds of approximately equal size. It is typical to use <i>5</i> or <i>10</i>.\n",
    "\n",
    "<div>\n",
    "<img src=\"Kfold.png\" width=\"500\"/>\n",
    "</div>"
   ]
  },
  {
   "cell_type": "code",
   "execution_count": null,
   "metadata": {},
   "outputs": [],
   "source": [
    "from sklearn.model_selection import KFold\n",
    "\n",
    "# let's try on 10-folds, 10 adjacent split of the data.\n",
    "k=10\n",
    "kf = KFold(n_splits=k)\n",
    "\n",
    "vel = np.zeros(k) # initalize a vector to store the regression values\n",
    "mse_train = np.zeros(k)\n",
    "mse_val = np.zeros(k)\n",
    "r2s = np.zeros(k)\n",
    "i=0\n",
    "for train_index, val_index in kf.split(E):    \n",
    "    E_train, E_val = E[train_index], E[val_index]\n",
    "    t_train, t_val = t[train_index], t[val_index]\n",
    "    # now fit the data on the training set.\n",
    "    regr = LinearRegression()\n",
    "    # Fit on training data:\n",
    "    regr.fit(t_train,E_train)\n",
    "    # We will first predict the fit:\n",
    "    Epred_train=regr.predict(t_train) \n",
    "    Epred_val=regr.predict(t_val) \n",
    "\n",
    "    # The coefficients\n",
    "    vel[i]= regr.coef_[0][0]\n",
    "    mse_val[i]= mean_squared_error(E_val, Epred_val)\n",
    "    mse_train[i]= mean_squared_error(E_train, Epred_train)\n",
    "    r2s[i]=r2_score(E_train, Epred_train)\n",
    "    i+=1\n",
    "\n",
    "# the data shows clearly a trend, so the predictions of the trends are close to each other:\n",
    "print(\"mean of the velocity estimates %4.2f and the standard deviation %4.2f\"%(np.mean(vel),np.std(vel)))\n",
    "# the test error is the average of the mean-square-errors\n",
    "print(\"mean MSE for training set : %4.2f and the validation set: %4.2f\"%(np.mean(mse_train),np.mean(mse_val)))"
   ]
  }
 ],
 "metadata": {
  "kernelspec": {
   "display_name": "Python 3 (ipykernel)",
   "language": "python",
   "name": "python3"
  },
  "language_info": {
   "codemirror_mode": {
    "name": "ipython",
    "version": 3
   },
   "file_extension": ".py",
   "mimetype": "text/x-python",
   "name": "python",
   "nbconvert_exporter": "python",
   "pygments_lexer": "ipython3",
   "version": "3.11.4"
  },
  "vscode": {
   "interpreter": {
    "hash": "bf1c1ab31e530e60b58e3d6ad0457a0c579c03efa8f6c28b6cdd125835b5a825"
   }
  }
 },
 "nbformat": 4,
 "nbformat_minor": 2
}
